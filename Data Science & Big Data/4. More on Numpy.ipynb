{
 "cells": [
  {
   "cell_type": "code",
   "execution_count": 1,
   "id": "3e80c720",
   "metadata": {},
   "outputs": [],
   "source": [
    "import numpy as np"
   ]
  },
  {
   "cell_type": "code",
   "execution_count": 2,
   "id": "7c412f1d",
   "metadata": {},
   "outputs": [],
   "source": [
    "a = np.arange(5)"
   ]
  },
  {
   "cell_type": "code",
   "execution_count": 3,
   "id": "55e1852f",
   "metadata": {},
   "outputs": [
    {
     "data": {
      "text/plain": [
       "array([0, 1, 2, 3, 4])"
      ]
     },
     "execution_count": 3,
     "metadata": {},
     "output_type": "execute_result"
    }
   ],
   "source": [
    "a"
   ]
  },
  {
   "cell_type": "code",
   "execution_count": 4,
   "id": "060ee0f8",
   "metadata": {},
   "outputs": [],
   "source": [
    "b = np.array([1,23,3,5,5,76,87,98,90,0,54,4,3,56,76,34,7,23])"
   ]
  },
  {
   "cell_type": "code",
   "execution_count": 5,
   "id": "8b0fbb7d",
   "metadata": {},
   "outputs": [],
   "source": [
    "# b = b.reshape(6,3)"
   ]
  },
  {
   "cell_type": "code",
   "execution_count": 6,
   "id": "08b68fb8",
   "metadata": {},
   "outputs": [],
   "source": [
    "# b"
   ]
  },
  {
   "cell_type": "code",
   "execution_count": 7,
   "id": "1622f7e6",
   "metadata": {},
   "outputs": [],
   "source": [
    "# b.reshape(5,5)"
   ]
  },
  {
   "cell_type": "code",
   "execution_count": 8,
   "id": "312b5f24",
   "metadata": {},
   "outputs": [
    {
     "data": {
      "text/plain": [
       "array([ 1, 23,  3,  5,  5, 76, 87, 98, 90,  0, 54,  4,  3, 56, 76, 34,  7,\n",
       "       23])"
      ]
     },
     "execution_count": 8,
     "metadata": {},
     "output_type": "execute_result"
    }
   ],
   "source": [
    "b"
   ]
  },
  {
   "cell_type": "code",
   "execution_count": 9,
   "id": "3c1281a1",
   "metadata": {},
   "outputs": [
    {
     "data": {
      "text/plain": [
       "array([ 9,  0, 12,  2, 11,  3,  4, 16, 17,  1, 15, 10, 13,  5, 14,  6,  8,\n",
       "        7], dtype=int32)"
      ]
     },
     "execution_count": 9,
     "metadata": {},
     "output_type": "execute_result"
    }
   ],
   "source": [
    "np.argsort(b)  # index"
   ]
  },
  {
   "cell_type": "code",
   "execution_count": 10,
   "id": "3700626c",
   "metadata": {},
   "outputs": [
    {
     "data": {
      "text/plain": [
       "7"
      ]
     },
     "execution_count": 10,
     "metadata": {},
     "output_type": "execute_result"
    }
   ],
   "source": [
    "np.argmax(b)"
   ]
  },
  {
   "cell_type": "code",
   "execution_count": 11,
   "id": "7300675f",
   "metadata": {},
   "outputs": [
    {
     "data": {
      "text/plain": [
       "9"
      ]
     },
     "execution_count": 11,
     "metadata": {},
     "output_type": "execute_result"
    }
   ],
   "source": [
    "np.argmin(b)"
   ]
  },
  {
   "cell_type": "code",
   "execution_count": 12,
   "id": "8f260190",
   "metadata": {},
   "outputs": [],
   "source": [
    "b = b.reshape(6,3)"
   ]
  },
  {
   "cell_type": "code",
   "execution_count": 13,
   "id": "56b32d4e",
   "metadata": {},
   "outputs": [
    {
     "data": {
      "text/plain": [
       "array([[ 1, 23,  3],\n",
       "       [ 5,  5, 76],\n",
       "       [87, 98, 90],\n",
       "       [ 0, 54,  4],\n",
       "       [ 3, 56, 76],\n",
       "       [34,  7, 23]])"
      ]
     },
     "execution_count": 13,
     "metadata": {},
     "output_type": "execute_result"
    }
   ],
   "source": [
    "b"
   ]
  },
  {
   "cell_type": "code",
   "execution_count": 14,
   "id": "6f9a0f2d",
   "metadata": {},
   "outputs": [
    {
     "data": {
      "text/plain": [
       "array([[0, 2, 1],\n",
       "       [0, 1, 2],\n",
       "       [0, 2, 1],\n",
       "       [0, 2, 1],\n",
       "       [0, 1, 2],\n",
       "       [1, 2, 0]], dtype=int32)"
      ]
     },
     "execution_count": 14,
     "metadata": {},
     "output_type": "execute_result"
    }
   ],
   "source": [
    "np.argsort(b)"
   ]
  },
  {
   "cell_type": "code",
   "execution_count": 15,
   "id": "0a4e3e5c",
   "metadata": {},
   "outputs": [
    {
     "data": {
      "text/plain": [
       "array([[3, 1, 0],\n",
       "       [0, 5, 3],\n",
       "       [4, 0, 5],\n",
       "       [1, 3, 1],\n",
       "       [5, 4, 4],\n",
       "       [2, 2, 2]], dtype=int32)"
      ]
     },
     "execution_count": 15,
     "metadata": {},
     "output_type": "execute_result"
    }
   ],
   "source": [
    "np.argsort(b, axis=0)"
   ]
  }
 ],
 "metadata": {
  "kernelspec": {
   "display_name": "Python 3 (ipykernel)",
   "language": "python",
   "name": "python3"
  },
  "language_info": {
   "codemirror_mode": {
    "name": "ipython",
    "version": 3
   },
   "file_extension": ".py",
   "mimetype": "text/x-python",
   "name": "python",
   "nbconvert_exporter": "python",
   "pygments_lexer": "ipython3",
   "version": "3.8.10"
  }
 },
 "nbformat": 4,
 "nbformat_minor": 5
}
