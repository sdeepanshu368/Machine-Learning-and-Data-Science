{
 "cells": [
  {
   "cell_type": "code",
   "execution_count": 1,
   "id": "050c2cb2",
   "metadata": {},
   "outputs": [],
   "source": [
    "import json"
   ]
  },
  {
   "cell_type": "code",
   "execution_count": 2,
   "id": "39b22254",
   "metadata": {},
   "outputs": [],
   "source": [
    "json_data = '{\"a\":1, \"b\":2, \"c\":3}'"
   ]
  },
  {
   "cell_type": "code",
   "execution_count": 3,
   "id": "77d18728",
   "metadata": {},
   "outputs": [],
   "source": [
    "x = json.loads(json_data)"
   ]
  },
  {
   "cell_type": "code",
   "execution_count": 4,
   "id": "d7735cb7",
   "metadata": {},
   "outputs": [
    {
     "data": {
      "text/plain": [
       "{'a': 1, 'b': 2, 'c': 3}"
      ]
     },
     "execution_count": 4,
     "metadata": {},
     "output_type": "execute_result"
    }
   ],
   "source": [
    "x"
   ]
  },
  {
   "cell_type": "code",
   "execution_count": 5,
   "id": "6780f00a",
   "metadata": {},
   "outputs": [
    {
     "data": {
      "text/plain": [
       "3"
      ]
     },
     "execution_count": 5,
     "metadata": {},
     "output_type": "execute_result"
    }
   ],
   "source": [
    "x['c']"
   ]
  },
  {
   "cell_type": "code",
   "execution_count": 6,
   "id": "e24c17a5",
   "metadata": {},
   "outputs": [],
   "source": [
    "with open('data2.json', 'w') as f:\n",
    "    json.dump(x,f)"
   ]
  },
  {
   "cell_type": "code",
   "execution_count": 7,
   "id": "d26ceef0",
   "metadata": {},
   "outputs": [
    {
     "name": "stdout",
     "output_type": "stream",
     "text": [
      "{\"a\": 1, \"b\": 2, \"c\": 3}\n"
     ]
    }
   ],
   "source": [
    "with open('data2.json', 'r') as f:\n",
    "    print(f.read())\n",
    "    "
   ]
  }
 ],
 "metadata": {
  "kernelspec": {
   "display_name": "Python 3 (ipykernel)",
   "language": "python",
   "name": "python3"
  },
  "language_info": {
   "codemirror_mode": {
    "name": "ipython",
    "version": 3
   },
   "file_extension": ".py",
   "mimetype": "text/x-python",
   "name": "python",
   "nbconvert_exporter": "python",
   "pygments_lexer": "ipython3",
   "version": "3.8.10"
  }
 },
 "nbformat": 4,
 "nbformat_minor": 5
}
