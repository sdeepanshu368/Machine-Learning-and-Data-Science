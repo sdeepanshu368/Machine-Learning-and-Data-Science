{
 "cells": [
  {
   "cell_type": "code",
   "execution_count": 1,
   "id": "f4e79c03",
   "metadata": {},
   "outputs": [],
   "source": [
    "import pandas as pd"
   ]
  },
  {
   "cell_type": "code",
   "execution_count": 2,
   "id": "76e360ba",
   "metadata": {},
   "outputs": [],
   "source": [
    "df = pd.read_csv('data.csv')"
   ]
  },
  {
   "cell_type": "code",
   "execution_count": 3,
   "id": "1fc00c7e",
   "metadata": {},
   "outputs": [
    {
     "data": {
      "text/html": [
       "<div>\n",
       "<style scoped>\n",
       "    .dataframe tbody tr th:only-of-type {\n",
       "        vertical-align: middle;\n",
       "    }\n",
       "\n",
       "    .dataframe tbody tr th {\n",
       "        vertical-align: top;\n",
       "    }\n",
       "\n",
       "    .dataframe thead th {\n",
       "        text-align: right;\n",
       "    }\n",
       "</style>\n",
       "<table border=\"1\" class=\"dataframe\">\n",
       "  <thead>\n",
       "    <tr style=\"text-align: right;\">\n",
       "      <th></th>\n",
       "      <th>SYMBOL</th>\n",
       "      <th>SERIES</th>\n",
       "      <th>DATE1</th>\n",
       "      <th>PREV_CLOSE</th>\n",
       "      <th>OPEN_PRICE</th>\n",
       "      <th>HIGH_PRICE</th>\n",
       "      <th>LOW_PRICE</th>\n",
       "      <th>LAST_PRICE</th>\n",
       "      <th>CLOSE_PRICE</th>\n",
       "      <th>AVG_PRICE</th>\n",
       "      <th>TTL_TRD_QNTY</th>\n",
       "      <th>TURNOVER_LACS</th>\n",
       "      <th>NO_OF_TRADES</th>\n",
       "      <th>DELIV_QTY</th>\n",
       "      <th>DELIV_PER</th>\n",
       "    </tr>\n",
       "  </thead>\n",
       "  <tbody>\n",
       "    <tr>\n",
       "      <th>0</th>\n",
       "      <td>20MICRONS</td>\n",
       "      <td>EQ</td>\n",
       "      <td>31-Aug-2021</td>\n",
       "      <td>53.40</td>\n",
       "      <td>54.90</td>\n",
       "      <td>54.90</td>\n",
       "      <td>53.60</td>\n",
       "      <td>53.75</td>\n",
       "      <td>53.85</td>\n",
       "      <td>54.15</td>\n",
       "      <td>44967</td>\n",
       "      <td>24.35</td>\n",
       "      <td>1360</td>\n",
       "      <td>27414</td>\n",
       "      <td>60.96</td>\n",
       "    </tr>\n",
       "    <tr>\n",
       "      <th>1</th>\n",
       "      <td>21STCENMGM</td>\n",
       "      <td>EQ</td>\n",
       "      <td>31-Aug-2021</td>\n",
       "      <td>32.90</td>\n",
       "      <td>33.55</td>\n",
       "      <td>33.55</td>\n",
       "      <td>33.55</td>\n",
       "      <td>33.55</td>\n",
       "      <td>33.55</td>\n",
       "      <td>33.55</td>\n",
       "      <td>563</td>\n",
       "      <td>0.19</td>\n",
       "      <td>11</td>\n",
       "      <td>563</td>\n",
       "      <td>100</td>\n",
       "    </tr>\n",
       "    <tr>\n",
       "      <th>2</th>\n",
       "      <td>3MINDIA</td>\n",
       "      <td>EQ</td>\n",
       "      <td>31-Aug-2021</td>\n",
       "      <td>22979.10</td>\n",
       "      <td>23100.00</td>\n",
       "      <td>24838.30</td>\n",
       "      <td>23100.00</td>\n",
       "      <td>24005.00</td>\n",
       "      <td>24391.45</td>\n",
       "      <td>24207.31</td>\n",
       "      <td>16209</td>\n",
       "      <td>3923.76</td>\n",
       "      <td>7478</td>\n",
       "      <td>4633</td>\n",
       "      <td>28.58</td>\n",
       "    </tr>\n",
       "    <tr>\n",
       "      <th>3</th>\n",
       "      <td>3PLAND</td>\n",
       "      <td>BE</td>\n",
       "      <td>31-Aug-2021</td>\n",
       "      <td>14.10</td>\n",
       "      <td>14.75</td>\n",
       "      <td>14.75</td>\n",
       "      <td>13.50</td>\n",
       "      <td>14.35</td>\n",
       "      <td>14.35</td>\n",
       "      <td>14.39</td>\n",
       "      <td>2248</td>\n",
       "      <td>0.32</td>\n",
       "      <td>31</td>\n",
       "      <td>-</td>\n",
       "      <td>-</td>\n",
       "    </tr>\n",
       "    <tr>\n",
       "      <th>4</th>\n",
       "      <td>5PAISA</td>\n",
       "      <td>EQ</td>\n",
       "      <td>31-Aug-2021</td>\n",
       "      <td>450.15</td>\n",
       "      <td>453.40</td>\n",
       "      <td>466.80</td>\n",
       "      <td>452.00</td>\n",
       "      <td>464.00</td>\n",
       "      <td>462.15</td>\n",
       "      <td>459.07</td>\n",
       "      <td>38288</td>\n",
       "      <td>175.77</td>\n",
       "      <td>1124</td>\n",
       "      <td>15824</td>\n",
       "      <td>41.33</td>\n",
       "    </tr>\n",
       "  </tbody>\n",
       "</table>\n",
       "</div>"
      ],
      "text/plain": [
       "       SYMBOL SERIES         DATE1  PREV_CLOSE  OPEN_PRICE  HIGH_PRICE  \\\n",
       "0   20MICRONS     EQ   31-Aug-2021       53.40       54.90       54.90   \n",
       "1  21STCENMGM     EQ   31-Aug-2021       32.90       33.55       33.55   \n",
       "2     3MINDIA     EQ   31-Aug-2021    22979.10    23100.00    24838.30   \n",
       "3      3PLAND     BE   31-Aug-2021       14.10       14.75       14.75   \n",
       "4      5PAISA     EQ   31-Aug-2021      450.15      453.40      466.80   \n",
       "\n",
       "   LOW_PRICE  LAST_PRICE  CLOSE_PRICE  AVG_PRICE  TTL_TRD_QNTY  TURNOVER_LACS  \\\n",
       "0      53.60       53.75        53.85      54.15         44967          24.35   \n",
       "1      33.55       33.55        33.55      33.55           563           0.19   \n",
       "2   23100.00    24005.00     24391.45   24207.31         16209        3923.76   \n",
       "3      13.50       14.35        14.35      14.39          2248           0.32   \n",
       "4     452.00      464.00       462.15     459.07         38288         175.77   \n",
       "\n",
       "   NO_OF_TRADES DELIV_QTY DELIV_PER  \n",
       "0          1360     27414     60.96  \n",
       "1            11       563       100  \n",
       "2          7478      4633     28.58  \n",
       "3            31         -         -  \n",
       "4          1124     15824     41.33  "
      ]
     },
     "execution_count": 3,
     "metadata": {},
     "output_type": "execute_result"
    }
   ],
   "source": [
    "df.head()"
   ]
  },
  {
   "cell_type": "code",
   "execution_count": 4,
   "id": "cebc868c",
   "metadata": {},
   "outputs": [
    {
     "name": "stdout",
     "output_type": "stream",
     "text": [
      "float64\n"
     ]
    }
   ],
   "source": [
    "print(df['PREV_CLOSE'].dtype)"
   ]
  },
  {
   "cell_type": "code",
   "execution_count": 5,
   "id": "386ba493",
   "metadata": {},
   "outputs": [
    {
     "name": "stdout",
     "output_type": "stream",
     "text": [
      "0          53.40\n",
      "1          32.90\n",
      "2       22979.10\n",
      "3          14.10\n",
      "4         450.15\n",
      "          ...   \n",
      "2068      133.55\n",
      "2069      350.95\n",
      "2070      119.75\n",
      "2071      131.00\n",
      "2072     2297.80\n",
      "Name: PREV_CLOSE, Length: 2073, dtype: float64\n"
     ]
    }
   ],
   "source": [
    "print(df['PREV_CLOSE'])"
   ]
  },
  {
   "cell_type": "code",
   "execution_count": 6,
   "id": "92ec88ec",
   "metadata": {},
   "outputs": [
    {
     "name": "stdout",
     "output_type": "stream",
     "text": [
      "0        EQ\n",
      "1        EQ\n",
      "2        EQ\n",
      "3        BE\n",
      "4        EQ\n",
      "       ... \n",
      "2068     EQ\n",
      "2069     EQ\n",
      "2070     BE\n",
      "2071     BE\n",
      "2072     EQ\n",
      "Name: SERIES, Length: 2073, dtype: category\n",
      "Categories (65, object): [' BE', ' BZ', ' E1', ' EQ', ..., ' Z4', ' Z5', ' Z6', ' ZJ']\n"
     ]
    }
   ],
   "source": [
    "print(df['SERIES'].astype('category'))"
   ]
  }
 ],
 "metadata": {
  "kernelspec": {
   "display_name": "Python 3 (ipykernel)",
   "language": "python",
   "name": "python3"
  },
  "language_info": {
   "codemirror_mode": {
    "name": "ipython",
    "version": 3
   },
   "file_extension": ".py",
   "mimetype": "text/x-python",
   "name": "python",
   "nbconvert_exporter": "python",
   "pygments_lexer": "ipython3",
   "version": "3.8.10"
  }
 },
 "nbformat": 4,
 "nbformat_minor": 5
}
